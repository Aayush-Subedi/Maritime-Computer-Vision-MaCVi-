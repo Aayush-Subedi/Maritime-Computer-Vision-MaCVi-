{
 "cells": [
  {
   "cell_type": "markdown",
   "metadata": {},
   "source": [
    "##### Learning resource: Keras Official Website (https://keras.io/examples/vision/oxford_pets_image_segmentation/)\n",
    "#### Please check HW_3_Solutions.pdf to see all the outputs"
   ]
  },
  {
   "cell_type": "markdown",
   "metadata": {},
   "source": [
    "## Importing and loading the image sets  "
   ]
  },
  {
   "cell_type": "code",
   "execution_count": 12,
   "metadata": {},
   "outputs": [
    {
     "name": "stdout",
     "output_type": "stream",
     "text": [
      "Number of samples: 1325\n",
      "MaSTr1325_images_512x384/0001.jpg | MaSTr1325_masks_512x384/0001m.png\n",
      "MaSTr1325_images_512x384/0002.jpg | MaSTr1325_masks_512x384/0002m.png\n",
      "MaSTr1325_images_512x384/0003.jpg | MaSTr1325_masks_512x384/0003m.png\n",
      "MaSTr1325_images_512x384/0004.jpg | MaSTr1325_masks_512x384/0004m.png\n",
      "MaSTr1325_images_512x384/0005.jpg | MaSTr1325_masks_512x384/0005m.png\n",
      "MaSTr1325_images_512x384/0006.jpg | MaSTr1325_masks_512x384/0006m.png\n",
      "MaSTr1325_images_512x384/0007.jpg | MaSTr1325_masks_512x384/0007m.png\n",
      "MaSTr1325_images_512x384/0008.jpg | MaSTr1325_masks_512x384/0008m.png\n",
      "MaSTr1325_images_512x384/0009.jpg | MaSTr1325_masks_512x384/0009m.png\n",
      "MaSTr1325_images_512x384/0010.jpg | MaSTr1325_masks_512x384/0010m.png\n"
     ]
    }
   ],
   "source": [
    "import os\n",
    "#importing all the functions from function.py\n",
    "from function import *\n",
    "from tensorflow import keras\n",
    "import numpy as np\n",
    "from tensorflow.keras.preprocessing.image import load_img\n",
    "from IPython.display import Image, display \n",
    "import numpy as np\n",
    "from tensorflow.keras.preprocessing.image import load_img\n",
    "from PIL import ImageOps\n",
    "import random\n",
    "\n",
    "input_dir = \"MaSTr1325_images_512x384/\"\n",
    "target_dir = \"MaSTr1325_masks_512x384/\"\n",
    "img_size = (512, 384)\n",
    "num_classes = 4\n",
    "batch_size = 32\n",
    "\n",
    "input_img_paths = sorted(\n",
    "    [\n",
    "        os.path.join(input_dir, fname)\n",
    "        for fname in os.listdir(input_dir)\n",
    "        if fname.endswith(\".jpg\")\n",
    "    ]\n",
    ")\n",
    "target_img_paths = sorted(\n",
    "    [\n",
    "        os.path.join(target_dir, fname)\n",
    "        for fname in os.listdir(target_dir) \n",
    "        if fname.endswith(\".png\") \n",
    "        and not fname.startswith(\".\")\n",
    "    ]\n",
    ") \n",
    "\n",
    "print(\"Number of samples:\", len(input_img_paths))\n",
    "\n",
    "for input_path, target_path in zip(input_img_paths[:10], target_img_paths[:10]):\n",
    "    print(input_path, \"|\", target_path)"
   ]
  },
  {
   "cell_type": "markdown",
   "metadata": {},
   "source": [
    "## Checking a image and its segmentation mask"
   ]
  },
  {
   "cell_type": "code",
   "execution_count": 4,
   "metadata": {},
   "outputs": [
    {
     "data": {
      "image/jpeg": "[encoded data removed]",
      "text/plain": [
       "<IPython.core.display.Image object>"
      ]
     },
     "metadata": {},
     "output_type": "display_data"
    },
    {
     "data": {
      "image/png": "[encoded data removed]",
      "text/plain": [
       "<PIL.Image.Image image mode=RGB size=512x384 at 0x7FCC7437DC40>"
      ]
     },
     "metadata": {},
     "output_type": "display_data"
    }
   ],
   "source": [
    "# Display input image #7\n",
    "display(Image(filename=input_img_paths[9]))\n",
    "\n",
    "# Display auto-contrast version of corresponding target (per-pixel categories)\n",
    "img = ImageOps.autocontrast(load_img(target_img_paths[9]))\n",
    "display(img)"
   ]
  },
  {
   "cell_type": "markdown",
   "metadata": {},
   "source": [
    "## Getting the ML model architecture, using UNet "
   ]
  },
  {
   "cell_type": "code",
   "execution_count": 6,
   "metadata": {},
   "outputs": [
    {
     "name": "stdout",
     "output_type": "stream",
     "text": [
      "Model: \"model_1\"\n",
      "__________________________________________________________________________________________________\n",
      " Layer (type)                   Output Shape         Param #     Connected to                     \n",
      "==================================================================================================\n",
      " input_2 (InputLayer)           [(None, 512, 384, 3  0           []                               \n",
      "                                )]                                                                \n",
      "                                                                                                  \n",
      " conv2d_9 (Conv2D)              (None, 256, 192, 4)  112         ['input_2[0][0]']                \n",
      "                                                                                                  \n",
      " batch_normalization_15 (BatchN  (None, 256, 192, 4)  16         ['conv2d_9[0][0]']               \n",
      " ormalization)                                                                                    \n",
      "                                                                                                  \n",
      " activation_15 (Activation)     (None, 256, 192, 4)  0           ['batch_normalization_15[0][0]'] \n",
      "                                                                                                  \n",
      " activation_16 (Activation)     (None, 256, 192, 4)  0           ['activation_15[0][0]']          \n",
      "                                                                                                  \n",
      " separable_conv2d_6 (SeparableC  (None, 256, 192, 8)  76         ['activation_16[0][0]']          \n",
      " onv2D)                                                                                           \n",
      "                                                                                                  \n",
      " batch_normalization_16 (BatchN  (None, 256, 192, 8)  32         ['separable_conv2d_6[0][0]']     \n",
      " ormalization)                                                                                    \n",
      "                                                                                                  \n",
      " activation_17 (Activation)     (None, 256, 192, 8)  0           ['batch_normalization_16[0][0]'] \n",
      "                                                                                                  \n",
      " separable_conv2d_7 (SeparableC  (None, 256, 192, 8)  144        ['activation_17[0][0]']          \n",
      " onv2D)                                                                                           \n",
      "                                                                                                  \n",
      " batch_normalization_17 (BatchN  (None, 256, 192, 8)  32         ['separable_conv2d_7[0][0]']     \n",
      " ormalization)                                                                                    \n",
      "                                                                                                  \n",
      " max_pooling2d_3 (MaxPooling2D)  (None, 128, 96, 8)  0           ['batch_normalization_17[0][0]'] \n",
      "                                                                                                  \n",
      " conv2d_10 (Conv2D)             (None, 128, 96, 8)   40          ['activation_15[0][0]']          \n",
      "                                                                                                  \n",
      " add_7 (Add)                    (None, 128, 96, 8)   0           ['max_pooling2d_3[0][0]',        \n",
      "                                                                  'conv2d_10[0][0]']              \n",
      "                                                                                                  \n",
      " activation_18 (Activation)     (None, 128, 96, 8)   0           ['add_7[0][0]']                  \n",
      "                                                                                                  \n",
      " separable_conv2d_8 (SeparableC  (None, 128, 96, 16)  216        ['activation_18[0][0]']          \n",
      " onv2D)                                                                                           \n",
      "                                                                                                  \n",
      " batch_normalization_18 (BatchN  (None, 128, 96, 16)  64         ['separable_conv2d_8[0][0]']     \n",
      " ormalization)                                                                                    \n",
      "                                                                                                  \n",
      " activation_19 (Activation)     (None, 128, 96, 16)  0           ['batch_normalization_18[0][0]'] \n",
      "                                                                                                  \n",
      " separable_conv2d_9 (SeparableC  (None, 128, 96, 16)  416        ['activation_19[0][0]']          \n",
      " onv2D)                                                                                           \n",
      "                                                                                                  \n",
      " batch_normalization_19 (BatchN  (None, 128, 96, 16)  64         ['separable_conv2d_9[0][0]']     \n",
      " ormalization)                                                                                    \n",
      "                                                                                                  \n",
      " max_pooling2d_4 (MaxPooling2D)  (None, 64, 48, 16)  0           ['batch_normalization_19[0][0]'] \n",
      "                                                                                                  \n",
      " conv2d_11 (Conv2D)             (None, 64, 48, 16)   144         ['add_7[0][0]']                  \n",
      "                                                                                                  \n",
      " add_8 (Add)                    (None, 64, 48, 16)   0           ['max_pooling2d_4[0][0]',        \n",
      "                                                                  'conv2d_11[0][0]']              \n",
      "                                                                                                  \n",
      " activation_20 (Activation)     (None, 64, 48, 16)   0           ['add_8[0][0]']                  \n",
      "                                                                                                  \n",
      " separable_conv2d_10 (Separable  (None, 64, 48, 32)  688         ['activation_20[0][0]']          \n",
      " Conv2D)                                                                                          \n",
      "                                                                                                  \n",
      " batch_normalization_20 (BatchN  (None, 64, 48, 32)  128         ['separable_conv2d_10[0][0]']    \n",
      " ormalization)                                                                                    \n",
      "                                                                                                  \n",
      " activation_21 (Activation)     (None, 64, 48, 32)   0           ['batch_normalization_20[0][0]'] \n",
      "                                                                                                  \n",
      " separable_conv2d_11 (Separable  (None, 64, 48, 32)  1344        ['activation_21[0][0]']          \n",
      " Conv2D)                                                                                          \n",
      "                                                                                                  \n",
      " batch_normalization_21 (BatchN  (None, 64, 48, 32)  128         ['separable_conv2d_11[0][0]']    \n",
      " ormalization)                                                                                    \n",
      "                                                                                                  \n",
      " max_pooling2d_5 (MaxPooling2D)  (None, 32, 24, 32)  0           ['batch_normalization_21[0][0]'] \n",
      "                                                                                                  \n",
      " conv2d_12 (Conv2D)             (None, 32, 24, 32)   544         ['add_8[0][0]']                  \n",
      "                                                                                                  \n",
      " add_9 (Add)                    (None, 32, 24, 32)   0           ['max_pooling2d_5[0][0]',        \n",
      "                                                                  'conv2d_12[0][0]']              \n",
      "                                                                                                  \n",
      " activation_22 (Activation)     (None, 32, 24, 32)   0           ['add_9[0][0]']                  \n"
     ]
    },
    {
     "name": "stdout",
     "output_type": "stream",
     "text": [
      "                                                                                                  \n",
      " conv2d_transpose_8 (Conv2DTran  (None, 32, 24, 32)  9248        ['activation_22[0][0]']          \n",
      " spose)                                                                                           \n",
      "                                                                                                  \n",
      " batch_normalization_22 (BatchN  (None, 32, 24, 32)  128         ['conv2d_transpose_8[0][0]']     \n",
      " ormalization)                                                                                    \n",
      "                                                                                                  \n",
      " activation_23 (Activation)     (None, 32, 24, 32)   0           ['batch_normalization_22[0][0]'] \n",
      "                                                                                                  \n",
      " conv2d_transpose_9 (Conv2DTran  (None, 32, 24, 32)  9248        ['activation_23[0][0]']          \n",
      " spose)                                                                                           \n",
      "                                                                                                  \n",
      " batch_normalization_23 (BatchN  (None, 32, 24, 32)  128         ['conv2d_transpose_9[0][0]']     \n",
      " ormalization)                                                                                    \n",
      "                                                                                                  \n",
      " up_sampling2d_9 (UpSampling2D)  (None, 64, 48, 32)  0           ['add_9[0][0]']                  \n",
      "                                                                                                  \n",
      " up_sampling2d_8 (UpSampling2D)  (None, 64, 48, 32)  0           ['batch_normalization_23[0][0]'] \n",
      "                                                                                                  \n",
      " conv2d_13 (Conv2D)             (None, 64, 48, 32)   1056        ['up_sampling2d_9[0][0]']        \n",
      "                                                                                                  \n",
      " add_10 (Add)                   (None, 64, 48, 32)   0           ['up_sampling2d_8[0][0]',        \n",
      "                                                                  'conv2d_13[0][0]']              \n",
      "                                                                                                  \n",
      " activation_24 (Activation)     (None, 64, 48, 32)   0           ['add_10[0][0]']                 \n",
      "                                                                                                  \n",
      " conv2d_transpose_10 (Conv2DTra  (None, 64, 48, 16)  4624        ['activation_24[0][0]']          \n",
      " nspose)                                                                                          \n",
      "                                                                                                  \n",
      " batch_normalization_24 (BatchN  (None, 64, 48, 16)  64          ['conv2d_transpose_10[0][0]']    \n",
      " ormalization)                                                                                    \n",
      "                                                                                                  \n",
      " activation_25 (Activation)     (None, 64, 48, 16)   0           ['batch_normalization_24[0][0]'] \n",
      "                                                                                                  \n",
      " conv2d_transpose_11 (Conv2DTra  (None, 64, 48, 16)  2320        ['activation_25[0][0]']          \n",
      " nspose)                                                                                          \n",
      "                                                                                                  \n",
      " batch_normalization_25 (BatchN  (None, 64, 48, 16)  64          ['conv2d_transpose_11[0][0]']    \n",
      " ormalization)                                                                                    \n",
      "                                                                                                  \n",
      " up_sampling2d_11 (UpSampling2D  (None, 128, 96, 32)  0          ['add_10[0][0]']                 \n",
      " )                                                                                                \n",
      "                                                                                                  \n",
      " up_sampling2d_10 (UpSampling2D  (None, 128, 96, 16)  0          ['batch_normalization_25[0][0]'] \n",
      " )                                                                                                \n",
      "                                                                                                  \n",
      " conv2d_14 (Conv2D)             (None, 128, 96, 16)  528         ['up_sampling2d_11[0][0]']       \n",
      "                                                                                                  \n",
      " add_11 (Add)                   (None, 128, 96, 16)  0           ['up_sampling2d_10[0][0]',       \n",
      "                                                                  'conv2d_14[0][0]']              \n",
      "                                                                                                  \n",
      " activation_26 (Activation)     (None, 128, 96, 16)  0           ['add_11[0][0]']                 \n",
      "                                                                                                  \n",
      " conv2d_transpose_12 (Conv2DTra  (None, 128, 96, 8)  1160        ['activation_26[0][0]']          \n",
      " nspose)                                                                                          \n",
      "                                                                                                  \n",
      " batch_normalization_26 (BatchN  (None, 128, 96, 8)  32          ['conv2d_transpose_12[0][0]']    \n",
      " ormalization)                                                                                    \n",
      "                                                                                                  \n",
      " activation_27 (Activation)     (None, 128, 96, 8)   0           ['batch_normalization_26[0][0]'] \n",
      "                                                                                                  \n",
      " conv2d_transpose_13 (Conv2DTra  (None, 128, 96, 8)  584         ['activation_27[0][0]']          \n",
      " nspose)                                                                                          \n",
      "                                                                                                  \n",
      " batch_normalization_27 (BatchN  (None, 128, 96, 8)  32          ['conv2d_transpose_13[0][0]']    \n",
      " ormalization)                                                                                    \n",
      "                                                                                                  \n",
      " up_sampling2d_13 (UpSampling2D  (None, 256, 192, 16  0          ['add_11[0][0]']                 \n",
      " )                              )                                                                 \n",
      "                                                                                                  \n",
      " up_sampling2d_12 (UpSampling2D  (None, 256, 192, 8)  0          ['batch_normalization_27[0][0]'] \n",
      " )                                                                                                \n",
      "                                                                                                  \n",
      " conv2d_15 (Conv2D)             (None, 256, 192, 8)  136         ['up_sampling2d_13[0][0]']       \n",
      "                                                                                                  \n",
      " add_12 (Add)                   (None, 256, 192, 8)  0           ['up_sampling2d_12[0][0]',       \n",
      "                                                                  'conv2d_15[0][0]']              \n",
      "                                                                                                  \n",
      " activation_28 (Activation)     (None, 256, 192, 8)  0           ['add_12[0][0]']                 \n",
      "                                                                                                  \n",
      " conv2d_transpose_14 (Conv2DTra  (None, 256, 192, 4)  292        ['activation_28[0][0]']          \n",
      " nspose)                                                                                          \n",
      "                                                                                                  \n"
     ]
    },
    {
     "name": "stdout",
     "output_type": "stream",
     "text": [
      " batch_normalization_28 (BatchN  (None, 256, 192, 4)  16         ['conv2d_transpose_14[0][0]']    \n",
      " ormalization)                                                                                    \n",
      "                                                                                                  \n",
      " activation_29 (Activation)     (None, 256, 192, 4)  0           ['batch_normalization_28[0][0]'] \n",
      "                                                                                                  \n",
      " conv2d_transpose_15 (Conv2DTra  (None, 256, 192, 4)  148        ['activation_29[0][0]']          \n",
      " nspose)                                                                                          \n",
      "                                                                                                  \n",
      " batch_normalization_29 (BatchN  (None, 256, 192, 4)  16         ['conv2d_transpose_15[0][0]']    \n",
      " ormalization)                                                                                    \n",
      "                                                                                                  \n",
      " up_sampling2d_15 (UpSampling2D  (None, 512, 384, 8)  0          ['add_12[0][0]']                 \n",
      " )                                                                                                \n",
      "                                                                                                  \n",
      " up_sampling2d_14 (UpSampling2D  (None, 512, 384, 4)  0          ['batch_normalization_29[0][0]'] \n",
      " )                                                                                                \n",
      "                                                                                                  \n",
      " conv2d_16 (Conv2D)             (None, 512, 384, 4)  36          ['up_sampling2d_15[0][0]']       \n",
      "                                                                                                  \n",
      " add_13 (Add)                   (None, 512, 384, 4)  0           ['up_sampling2d_14[0][0]',       \n",
      "                                                                  'conv2d_16[0][0]']              \n",
      "                                                                                                  \n",
      " conv2d_17 (Conv2D)             (None, 512, 384, 4)  148         ['add_13[0][0]']                 \n",
      "                                                                                                  \n",
      "==================================================================================================\n",
      "Total params: 34,196\n",
      "Trainable params: 33,724\n",
      "Non-trainable params: 472\n",
      "__________________________________________________________________________________________________\n"
     ]
    }
   ],
   "source": [
    "from tensorflow.keras import layers\n",
    "# Build model\n",
    "model = get_model(img_size, num_classes)\n",
    "model.summary()"
   ]
  },
  {
   "cell_type": "markdown",
   "metadata": {},
   "source": [
    "## Splitting the dataset into Training set, Cross Validation and Test set"
   ]
  },
  {
   "cell_type": "code",
   "execution_count": 7,
   "metadata": {},
   "outputs": [],
   "source": [
    "train_samples = int (1325 * 0.7)\n",
    "val_samples = train_samples + int (1325 * 0.2)\n",
    "\n",
    "random.Random(1337).shuffle(input_img_paths)\n",
    "random.Random(1337).shuffle(target_img_paths)\n",
    "train_input_img_paths = input_img_paths[:train_samples]\n",
    "train_target_img_paths = target_img_paths[:train_samples]\n",
    "val_input_img_paths = input_img_paths[train_samples:val_samples]\n",
    "val_target_img_paths = target_img_paths[train_samples:val_samples]\n",
    "test_input_img_paths = input_img_paths[val_samples:]\n",
    "test_target_img_paths = target_img_paths[val_samples:]\n",
    "\n",
    "train_gen = SeaKing(\n",
    "    batch_size, img_size, train_input_img_paths, train_target_img_paths\n",
    ")\n",
    "val_gen = SeaKing(batch_size, img_size, val_input_img_paths, val_target_img_paths)\n"
   ]
  },
  {
   "cell_type": "markdown",
   "metadata": {},
   "source": [
    "## Training the ML model"
   ]
  },
  {
   "cell_type": "code",
   "execution_count": 6,
   "metadata": {},
   "outputs": [
    {
     "name": "stdout",
     "output_type": "stream",
     "text": [
      "Epoch 1/40\n",
      "28/28 [==============================] - 110s 4s/step - loss: 0.5022 - val_loss: 1.1625\n",
      "Epoch 2/40\n",
      "28/28 [==============================] - 107s 4s/step - loss: 0.2243 - val_loss: 1.7156\n",
      "Epoch 3/40\n",
      "28/28 [==============================] - 103s 4s/step - loss: 0.1855 - val_loss: 2.2282\n",
      "Epoch 4/40\n",
      "28/28 [==============================] - 101s 4s/step - loss: 0.1612 - val_loss: 2.5915\n",
      "Epoch 5/40\n",
      "28/28 [==============================] - 105s 4s/step - loss: 0.1467 - val_loss: 2.8407\n",
      "Epoch 6/40\n",
      "28/28 [==============================] - 108s 4s/step - loss: 0.1369 - val_loss: 2.5838\n",
      "Epoch 7/40\n",
      "28/28 [==============================] - 102s 4s/step - loss: 0.1286 - val_loss: 2.7267\n",
      "Epoch 8/40\n",
      "28/28 [==============================] - 103s 4s/step - loss: 0.1220 - val_loss: 2.5417\n",
      "Epoch 9/40\n",
      "28/28 [==============================] - 113s 4s/step - loss: 0.1166 - val_loss: 2.4312\n",
      "Epoch 10/40\n",
      "28/28 [==============================] - 104s 4s/step - loss: 0.1109 - val_loss: 1.6837\n",
      "Epoch 11/40\n",
      "28/28 [==============================] - 102s 4s/step - loss: 0.1096 - val_loss: 1.3304\n",
      "Epoch 12/40\n",
      "28/28 [==============================] - 103s 4s/step - loss: 0.1067 - val_loss: 0.6116\n",
      "Epoch 13/40\n",
      "28/28 [==============================] - 103s 4s/step - loss: 0.0998 - val_loss: 0.5292\n",
      "Epoch 14/40\n",
      "28/28 [==============================] - 106s 4s/step - loss: 0.1001 - val_loss: 0.1870\n",
      "Epoch 15/40\n",
      "28/28 [==============================] - 104s 4s/step - loss: 0.0953 - val_loss: 0.1570\n",
      "Epoch 16/40\n",
      "28/28 [==============================] - 105s 4s/step - loss: 0.0961 - val_loss: 0.1734\n",
      "Epoch 17/40\n",
      "28/28 [==============================] - 100s 4s/step - loss: 0.0923 - val_loss: 0.1324\n",
      "Epoch 18/40\n",
      "28/28 [==============================] - 98s 4s/step - loss: 0.0913 - val_loss: 0.1925\n",
      "Epoch 19/40\n",
      "28/28 [==============================] - 99s 4s/step - loss: 0.0892 - val_loss: 0.1102\n",
      "Epoch 20/40\n",
      "28/28 [==============================] - 98s 4s/step - loss: 0.0874 - val_loss: 0.2341\n",
      "Epoch 21/40\n",
      "28/28 [==============================] - 98s 3s/step - loss: 0.0847 - val_loss: 0.1613\n",
      "Epoch 22/40\n",
      "28/28 [==============================] - 98s 3s/step - loss: 0.0859 - val_loss: 0.1802\n",
      "Epoch 23/40\n",
      "28/28 [==============================] - 98s 4s/step - loss: 0.0825 - val_loss: 0.1054\n",
      "Epoch 24/40\n",
      "28/28 [==============================] - 101s 4s/step - loss: 0.0838 - val_loss: 0.1927\n",
      "Epoch 25/40\n",
      "28/28 [==============================] - 101s 4s/step - loss: 0.0799 - val_loss: 0.0973\n",
      "Epoch 26/40\n",
      "28/28 [==============================] - 99s 4s/step - loss: 0.0796 - val_loss: 0.1045\n",
      "Epoch 27/40\n",
      "28/28 [==============================] - 102s 4s/step - loss: 0.0801 - val_loss: 0.0918\n",
      "Epoch 28/40\n",
      "28/28 [==============================] - 99s 4s/step - loss: 0.0783 - val_loss: 0.1049\n",
      "Epoch 29/40\n",
      "28/28 [==============================] - 98s 4s/step - loss: 0.0752 - val_loss: 0.0970\n",
      "Epoch 30/40\n",
      "28/28 [==============================] - 98s 4s/step - loss: 0.0766 - val_loss: 0.0905\n",
      "Epoch 31/40\n",
      "28/28 [==============================] - 97s 3s/step - loss: 0.0761 - val_loss: 0.1182\n",
      "Epoch 32/40\n",
      "28/28 [==============================] - 103s 4s/step - loss: 0.0756 - val_loss: 0.0927\n",
      "Epoch 33/40\n",
      "28/28 [==============================] - 97s 3s/step - loss: 0.0729 - val_loss: 0.1162\n",
      "Epoch 34/40\n",
      "28/28 [==============================] - 98s 3s/step - loss: 0.0719 - val_loss: 0.0972\n",
      "Epoch 35/40\n",
      "28/28 [==============================] - 98s 4s/step - loss: 0.0725 - val_loss: 0.1478\n",
      "Epoch 36/40\n",
      "28/28 [==============================] - 99s 4s/step - loss: 0.0721 - val_loss: 0.0890\n",
      "Epoch 37/40\n",
      "28/28 [==============================] - 98s 4s/step - loss: 0.0707 - val_loss: 0.1563\n",
      "Epoch 38/40\n",
      "28/28 [==============================] - 98s 3s/step - loss: 0.0701 - val_loss: 0.1156\n",
      "Epoch 39/40\n",
      "28/28 [==============================] - 98s 3s/step - loss: 0.0708 - val_loss: 0.0835\n",
      "Epoch 40/40\n",
      "28/28 [==============================] - 98s 4s/step - loss: 0.0684 - val_loss: 0.2066\n"
     ]
    }
   ],
   "source": [
    "model.compile(optimizer=\"adam\", loss=\"sparse_categorical_crossentropy\")\n",
    "\n",
    "callbacks = [\n",
    "    keras.callbacks.ModelCheckpoint(\"SeaKing.h5\", save_best_only=True)\n",
    "]\n",
    "\n",
    "# Train the model, doing validation at the end of each epoch.\n",
    "epochs = 40\n",
    "history = model.fit(train_gen, epochs=epochs, validation_data=val_gen, callbacks=callbacks)"
   ]
  },
  {
   "cell_type": "markdown",
   "metadata": {},
   "source": [
    "## Plotting the Train and Cross-validation loss graph"
   ]
  },
  {
   "cell_type": "code",
   "execution_count": 8,
   "metadata": {},
   "outputs": [
    {
     "data": {
      "image/png": "[encoded data removed]",
      "text/plain": [
       "<Figure size 432x288 with 1 Axes>"
      ]
     },
     "metadata": {
      "needs_background": "light"
     },
     "output_type": "display_data"
    }
   ],
   "source": [
    "plt.plot(history.history['loss'])\n",
    "plt.plot(history.history['val_loss'])\n",
    "plt.title('model loss')\n",
    "plt.ylabel('loss')\n",
    "plt.xlabel('epoch')\n",
    "plt.legend(['train', 'val'], loc='upper left')\n",
    "plt.show()"
   ]
  },
  {
   "cell_type": "markdown",
   "metadata": {},
   "source": [
    "## Comparing Groundtruth segmentation mask and Nural Networks's mask"
   ]
  },
  {
   "cell_type": "code",
   "execution_count": null,
   "metadata": {},
   "outputs": [],
   "source": [
    "val_gen = SeaKing(batch_size, img_size, val_input_img_paths, val_target_img_paths)\n",
    "val_preds = model.predict(val_gen)\n",
    "\n",
    "i = 11\n",
    "\n",
    "display(Image(filename=val_input_img_paths[i]))\n",
    "\n",
    "# Display ground-truth target mask\n",
    "img = ImageOps.autocontrast(load_img(val_target_img_paths[i]))\n",
    "display(img)\n",
    "\n",
    "# Display mask predicted by our NN model\n",
    "display_mask(i)"
   ]
  }
 ],
 "metadata": {
  "kernelspec": {
   "display_name": "Python 3 (ipykernel)",
   "language": "python",
   "name": "python3"
  },
  "language_info": {
   "codemirror_mode": {
    "name": "ipython",
    "version": 3
   },
   "file_extension": ".py",
   "mimetype": "text/x-python",
   "name": "python",
   "nbconvert_exporter": "python",
   "pygments_lexer": "ipython3",
   "version": "3.9.12 (main, Apr  5 2022, 01:53:17) \n[Clang 12.0.0 ]"
  },
  "vscode": {
   "interpreter": {
    "hash": "f51a0305e989d43f5c31da6f259d3e593964ca95f564e99747be33747bf62217"
   }
  }
 },
 "nbformat": 4,
 "nbformat_minor": 2
}
